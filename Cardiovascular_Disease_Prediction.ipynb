{
 "cells": [
  {
   "cell_type": "markdown",
   "metadata": {},
   "source": [
    "# Gerekli Kütüphanelerin Yüklenmesi"
   ]
  },
  {
   "cell_type": "code",
   "execution_count": 1,
   "metadata": {},
   "outputs": [],
   "source": [
    "%matplotlib inline\n",
    "from warnings import filterwarnings\n",
    "filterwarnings(\"ignore\",category=FutureWarning)\n",
    "filterwarnings(\"ignore\",category=UserWarning)\n",
    "import numpy as np\n",
    "import pandas as pd\n",
    "import matplotlib.pyplot as plt\n",
    "import seaborn as sns\n",
    "from sklearn.preprocessing import MinMaxScaler\n",
    "from sklearn.model_selection import train_test_split\n",
    "from sklearn.model_selection import cross_val_score,KFold\n",
    "from sklearn.metrics import accuracy_score,classification_report,confusion_matrix,f1_score\n",
    "from sklearn.metrics import roc_auc_score, plot_roc_curve,roc_auc_score\n",
    "from sklearn.linear_model import LogisticRegression\n",
    "from sklearn.naive_bayes import GaussianNB\n",
    "from sklearn.neighbors import KNeighborsClassifier\n",
    "from sklearn.ensemble import AdaBoostClassifier,BaggingClassifier,ExtraTreesClassifier,GradientBoostingClassifier,RandomForestClassifier\n",
    "from sklearn.tree import DecisionTreeClassifier\n",
    "from sklearn.svm import SVC\n",
    "from sklearn.neural_network import MLPClassifier\n",
    "from xgboost import XGBClassifier\n",
    "from catboost import CatBoostClassifier\n",
    "import joblib\n",
    "import csv"
   ]
  },
  {
   "cell_type": "markdown",
   "metadata": {},
   "source": [
    "# Veri Setinin Yüklenmesi"
   ]
  },
  {
   "cell_type": "code",
   "execution_count": 2,
   "metadata": {},
   "outputs": [],
   "source": [
    "dataset = pd.read_csv(\"cardio_disease.csv\",sep=';')"
   ]
  },
  {
   "cell_type": "markdown",
   "metadata": {},
   "source": [
    "# Veri Seti Hakkında Bilgiler "
   ]
  },
  {
   "cell_type": "code",
   "execution_count": 3,
   "metadata": {},
   "outputs": [
    {
     "data": {
      "text/html": [
       "<div>\n",
       "<style scoped>\n",
       "    .dataframe tbody tr th:only-of-type {\n",
       "        vertical-align: middle;\n",
       "    }\n",
       "\n",
       "    .dataframe tbody tr th {\n",
       "        vertical-align: top;\n",
       "    }\n",
       "\n",
       "    .dataframe thead th {\n",
       "        text-align: right;\n",
       "    }\n",
       "</style>\n",
       "<table border=\"1\" class=\"dataframe\">\n",
       "  <thead>\n",
       "    <tr style=\"text-align: right;\">\n",
       "      <th></th>\n",
       "      <th>id</th>\n",
       "      <th>age</th>\n",
       "      <th>gender</th>\n",
       "      <th>height</th>\n",
       "      <th>weight</th>\n",
       "      <th>ap_hi</th>\n",
       "      <th>ap_lo</th>\n",
       "      <th>cholesterol</th>\n",
       "      <th>gluc</th>\n",
       "      <th>smoke</th>\n",
       "      <th>alco</th>\n",
       "      <th>active</th>\n",
       "      <th>cardio</th>\n",
       "    </tr>\n",
       "  </thead>\n",
       "  <tbody>\n",
       "    <tr>\n",
       "      <th>0</th>\n",
       "      <td>0</td>\n",
       "      <td>18393</td>\n",
       "      <td>2</td>\n",
       "      <td>168</td>\n",
       "      <td>62.0</td>\n",
       "      <td>110</td>\n",
       "      <td>80</td>\n",
       "      <td>1</td>\n",
       "      <td>1</td>\n",
       "      <td>0</td>\n",
       "      <td>0</td>\n",
       "      <td>1</td>\n",
       "      <td>0</td>\n",
       "    </tr>\n",
       "    <tr>\n",
       "      <th>1</th>\n",
       "      <td>1</td>\n",
       "      <td>20228</td>\n",
       "      <td>1</td>\n",
       "      <td>156</td>\n",
       "      <td>85.0</td>\n",
       "      <td>140</td>\n",
       "      <td>90</td>\n",
       "      <td>3</td>\n",
       "      <td>1</td>\n",
       "      <td>0</td>\n",
       "      <td>0</td>\n",
       "      <td>1</td>\n",
       "      <td>1</td>\n",
       "    </tr>\n",
       "    <tr>\n",
       "      <th>2</th>\n",
       "      <td>2</td>\n",
       "      <td>18857</td>\n",
       "      <td>1</td>\n",
       "      <td>165</td>\n",
       "      <td>64.0</td>\n",
       "      <td>130</td>\n",
       "      <td>70</td>\n",
       "      <td>3</td>\n",
       "      <td>1</td>\n",
       "      <td>0</td>\n",
       "      <td>0</td>\n",
       "      <td>0</td>\n",
       "      <td>1</td>\n",
       "    </tr>\n",
       "    <tr>\n",
       "      <th>3</th>\n",
       "      <td>3</td>\n",
       "      <td>17623</td>\n",
       "      <td>2</td>\n",
       "      <td>169</td>\n",
       "      <td>82.0</td>\n",
       "      <td>150</td>\n",
       "      <td>100</td>\n",
       "      <td>1</td>\n",
       "      <td>1</td>\n",
       "      <td>0</td>\n",
       "      <td>0</td>\n",
       "      <td>1</td>\n",
       "      <td>1</td>\n",
       "    </tr>\n",
       "    <tr>\n",
       "      <th>4</th>\n",
       "      <td>4</td>\n",
       "      <td>17474</td>\n",
       "      <td>1</td>\n",
       "      <td>156</td>\n",
       "      <td>56.0</td>\n",
       "      <td>100</td>\n",
       "      <td>60</td>\n",
       "      <td>1</td>\n",
       "      <td>1</td>\n",
       "      <td>0</td>\n",
       "      <td>0</td>\n",
       "      <td>0</td>\n",
       "      <td>0</td>\n",
       "    </tr>\n",
       "  </tbody>\n",
       "</table>\n",
       "</div>"
      ],
      "text/plain": [
       "   id    age  gender  height  weight  ap_hi  ap_lo  cholesterol  gluc  smoke  \\\n",
       "0   0  18393       2     168    62.0    110     80            1     1      0   \n",
       "1   1  20228       1     156    85.0    140     90            3     1      0   \n",
       "2   2  18857       1     165    64.0    130     70            3     1      0   \n",
       "3   3  17623       2     169    82.0    150    100            1     1      0   \n",
       "4   4  17474       1     156    56.0    100     60            1     1      0   \n",
       "\n",
       "   alco  active  cardio  \n",
       "0     0       1       0  \n",
       "1     0       1       1  \n",
       "2     0       0       1  \n",
       "3     0       1       1  \n",
       "4     0       0       0  "
      ]
     },
     "execution_count": 3,
     "metadata": {},
     "output_type": "execute_result"
    }
   ],
   "source": [
    "#Veri setinin ilk 5 satırının okunması\n",
    "dataset.head()"
   ]
  },
  {
   "cell_type": "code",
   "execution_count": 4,
   "metadata": {},
   "outputs": [
    {
     "data": {
      "text/plain": [
       "'\\nVeri tanımlaması\\n3 tür giriş özelliği vardır:\\n\\nAmaç : Gerçek bilgiler\\nMuayene : tıbbi muayene sonuçları\\nSubjektif : Hasta tarafından verilen bilgi.\\n\\nÖzellikleri:\\n\\nage | Amaç Özelliği | yaş | tam sayı (gün)\\nheight | Amaç Özelliği | yükseklik | tam sayı (cm) |\\nweight | Amaç Özelliği | ağırlık | ondalıklı sayı (kg) |\\ngender | Amaç Özelliği | cinsiyet | kategorik |\\nap_hi | Muayene Özelliği | Sistolik kan basıncı | tam sayı |\\nap_lo | Muayene Özelliği | Diyastolik kan basıncı  | tam sayı |\\ncholesterol | Muayene Özelliği | kolesterol | 1: normal, 2: normalin üzerinde, 3: normalin oldukça üzerinde |\\ngluc | Muayene Özelliği | glikoz | 1: normal, 2: normalin üzerinde, 3: normalin oldukça üzerinde |\\nsmoke | Öznel Özellik | sigara | ikili | | 0: kullanmıyor, 1: kullanıyor |\\nalco | Öznel Özellik | Alkol alımı | ikili | | 0: yok, 1: var |\\nactive | Öznel Özellik | Fiziksel aktivite | ikili | | 0: yapmıyor, 1: yapıyor |\\ncardio | Hedef Değişken | Kardiyovasküler hastalık varlığı veya yokluğu  | ikili | | 0: yok, 1: var |\\nTüm veri seti değerleri tıbbi muayene anında toplanmıştır.\\n\\n'"
      ]
     },
     "execution_count": 4,
     "metadata": {},
     "output_type": "execute_result"
    }
   ],
   "source": [
    "#Veri setinin kolonlarına ve değerlerine ait bilgiler.\n",
    "\"\"\"\n",
    "Veri tanımlaması\n",
    "3 tür giriş özelliği vardır:\n",
    "\n",
    "Amaç : Gerçek bilgiler\n",
    "Muayene : tıbbi muayene sonuçları\n",
    "Subjektif : Hasta tarafından verilen bilgi.\n",
    "\n",
    "Özellikleri:\n",
    "\n",
    "age | Amaç Özelliği | yaş | tam sayı (gün)\n",
    "height | Amaç Özelliği | yükseklik | tam sayı (cm) |\n",
    "weight | Amaç Özelliği | ağırlık | ondalıklı sayı (kg) |\n",
    "gender | Amaç Özelliği | cinsiyet | kategorik |\n",
    "ap_hi | Muayene Özelliği | Sistolik kan basıncı | tam sayı |\n",
    "ap_lo | Muayene Özelliği | Diyastolik kan basıncı  | tam sayı |\n",
    "cholesterol | Muayene Özelliği | kolesterol | 1: normal, 2: normalin üzerinde, 3: normalin oldukça üzerinde |\n",
    "gluc | Muayene Özelliği | glikoz | 1: normal, 2: normalin üzerinde, 3: normalin oldukça üzerinde |\n",
    "smoke | Öznel Özellik | sigara | ikili | | 0: kullanmıyor, 1: kullanıyor |\n",
    "alco | Öznel Özellik | Alkol alımı | ikili | | 0: yok, 1: var |\n",
    "active | Öznel Özellik | Fiziksel aktivite | ikili | | 0: yapmıyor, 1: yapıyor |\n",
    "cardio | Hedef Değişken | Kardiyovasküler hastalık varlığı veya yokluğu  | ikili | | 0: yok, 1: var |\n",
    "Tüm veri seti değerleri tıbbi muayene anında toplanmıştır.\n",
    "\n",
    "\"\"\""
   ]
  },
  {
   "cell_type": "code",
   "execution_count": 5,
   "metadata": {},
   "outputs": [
    {
     "data": {
      "text/html": [
       "<div>\n",
       "<style scoped>\n",
       "    .dataframe tbody tr th:only-of-type {\n",
       "        vertical-align: middle;\n",
       "    }\n",
       "\n",
       "    .dataframe tbody tr th {\n",
       "        vertical-align: top;\n",
       "    }\n",
       "\n",
       "    .dataframe thead th {\n",
       "        text-align: right;\n",
       "    }\n",
       "</style>\n",
       "<table border=\"1\" class=\"dataframe\">\n",
       "  <thead>\n",
       "    <tr style=\"text-align: right;\">\n",
       "      <th></th>\n",
       "      <th>id</th>\n",
       "      <th>age</th>\n",
       "      <th>gender</th>\n",
       "      <th>height</th>\n",
       "      <th>weight</th>\n",
       "      <th>ap_hi</th>\n",
       "      <th>ap_lo</th>\n",
       "      <th>cholesterol</th>\n",
       "      <th>gluc</th>\n",
       "      <th>smoke</th>\n",
       "      <th>alco</th>\n",
       "      <th>active</th>\n",
       "      <th>cardio</th>\n",
       "    </tr>\n",
       "  </thead>\n",
       "  <tbody>\n",
       "    <tr>\n",
       "      <th>count</th>\n",
       "      <td>70000.000000</td>\n",
       "      <td>70000.000000</td>\n",
       "      <td>70000.000000</td>\n",
       "      <td>70000.000000</td>\n",
       "      <td>70000.000000</td>\n",
       "      <td>70000.000000</td>\n",
       "      <td>70000.000000</td>\n",
       "      <td>70000.000000</td>\n",
       "      <td>70000.000000</td>\n",
       "      <td>70000.000000</td>\n",
       "      <td>70000.000000</td>\n",
       "      <td>70000.000000</td>\n",
       "      <td>70000.000000</td>\n",
       "    </tr>\n",
       "    <tr>\n",
       "      <th>mean</th>\n",
       "      <td>49972.419900</td>\n",
       "      <td>19468.865814</td>\n",
       "      <td>1.349571</td>\n",
       "      <td>164.359229</td>\n",
       "      <td>74.205690</td>\n",
       "      <td>128.817286</td>\n",
       "      <td>96.630414</td>\n",
       "      <td>1.366871</td>\n",
       "      <td>1.226457</td>\n",
       "      <td>0.088129</td>\n",
       "      <td>0.053771</td>\n",
       "      <td>0.803729</td>\n",
       "      <td>0.499700</td>\n",
       "    </tr>\n",
       "    <tr>\n",
       "      <th>std</th>\n",
       "      <td>28851.302323</td>\n",
       "      <td>2467.251667</td>\n",
       "      <td>0.476838</td>\n",
       "      <td>8.210126</td>\n",
       "      <td>14.395757</td>\n",
       "      <td>154.011419</td>\n",
       "      <td>188.472530</td>\n",
       "      <td>0.680250</td>\n",
       "      <td>0.572270</td>\n",
       "      <td>0.283484</td>\n",
       "      <td>0.225568</td>\n",
       "      <td>0.397179</td>\n",
       "      <td>0.500003</td>\n",
       "    </tr>\n",
       "    <tr>\n",
       "      <th>min</th>\n",
       "      <td>0.000000</td>\n",
       "      <td>10798.000000</td>\n",
       "      <td>1.000000</td>\n",
       "      <td>55.000000</td>\n",
       "      <td>10.000000</td>\n",
       "      <td>-150.000000</td>\n",
       "      <td>-70.000000</td>\n",
       "      <td>1.000000</td>\n",
       "      <td>1.000000</td>\n",
       "      <td>0.000000</td>\n",
       "      <td>0.000000</td>\n",
       "      <td>0.000000</td>\n",
       "      <td>0.000000</td>\n",
       "    </tr>\n",
       "    <tr>\n",
       "      <th>25%</th>\n",
       "      <td>25006.750000</td>\n",
       "      <td>17664.000000</td>\n",
       "      <td>1.000000</td>\n",
       "      <td>159.000000</td>\n",
       "      <td>65.000000</td>\n",
       "      <td>120.000000</td>\n",
       "      <td>80.000000</td>\n",
       "      <td>1.000000</td>\n",
       "      <td>1.000000</td>\n",
       "      <td>0.000000</td>\n",
       "      <td>0.000000</td>\n",
       "      <td>1.000000</td>\n",
       "      <td>0.000000</td>\n",
       "    </tr>\n",
       "    <tr>\n",
       "      <th>50%</th>\n",
       "      <td>50001.500000</td>\n",
       "      <td>19703.000000</td>\n",
       "      <td>1.000000</td>\n",
       "      <td>165.000000</td>\n",
       "      <td>72.000000</td>\n",
       "      <td>120.000000</td>\n",
       "      <td>80.000000</td>\n",
       "      <td>1.000000</td>\n",
       "      <td>1.000000</td>\n",
       "      <td>0.000000</td>\n",
       "      <td>0.000000</td>\n",
       "      <td>1.000000</td>\n",
       "      <td>0.000000</td>\n",
       "    </tr>\n",
       "    <tr>\n",
       "      <th>75%</th>\n",
       "      <td>74889.250000</td>\n",
       "      <td>21327.000000</td>\n",
       "      <td>2.000000</td>\n",
       "      <td>170.000000</td>\n",
       "      <td>82.000000</td>\n",
       "      <td>140.000000</td>\n",
       "      <td>90.000000</td>\n",
       "      <td>2.000000</td>\n",
       "      <td>1.000000</td>\n",
       "      <td>0.000000</td>\n",
       "      <td>0.000000</td>\n",
       "      <td>1.000000</td>\n",
       "      <td>1.000000</td>\n",
       "    </tr>\n",
       "    <tr>\n",
       "      <th>max</th>\n",
       "      <td>99999.000000</td>\n",
       "      <td>23713.000000</td>\n",
       "      <td>2.000000</td>\n",
       "      <td>250.000000</td>\n",
       "      <td>200.000000</td>\n",
       "      <td>16020.000000</td>\n",
       "      <td>11000.000000</td>\n",
       "      <td>3.000000</td>\n",
       "      <td>3.000000</td>\n",
       "      <td>1.000000</td>\n",
       "      <td>1.000000</td>\n",
       "      <td>1.000000</td>\n",
       "      <td>1.000000</td>\n",
       "    </tr>\n",
       "  </tbody>\n",
       "</table>\n",
       "</div>"
      ],
      "text/plain": [
       "                 id           age        gender        height        weight  \\\n",
       "count  70000.000000  70000.000000  70000.000000  70000.000000  70000.000000   \n",
       "mean   49972.419900  19468.865814      1.349571    164.359229     74.205690   \n",
       "std    28851.302323   2467.251667      0.476838      8.210126     14.395757   \n",
       "min        0.000000  10798.000000      1.000000     55.000000     10.000000   \n",
       "25%    25006.750000  17664.000000      1.000000    159.000000     65.000000   \n",
       "50%    50001.500000  19703.000000      1.000000    165.000000     72.000000   \n",
       "75%    74889.250000  21327.000000      2.000000    170.000000     82.000000   \n",
       "max    99999.000000  23713.000000      2.000000    250.000000    200.000000   \n",
       "\n",
       "              ap_hi         ap_lo   cholesterol          gluc         smoke  \\\n",
       "count  70000.000000  70000.000000  70000.000000  70000.000000  70000.000000   \n",
       "mean     128.817286     96.630414      1.366871      1.226457      0.088129   \n",
       "std      154.011419    188.472530      0.680250      0.572270      0.283484   \n",
       "min     -150.000000    -70.000000      1.000000      1.000000      0.000000   \n",
       "25%      120.000000     80.000000      1.000000      1.000000      0.000000   \n",
       "50%      120.000000     80.000000      1.000000      1.000000      0.000000   \n",
       "75%      140.000000     90.000000      2.000000      1.000000      0.000000   \n",
       "max    16020.000000  11000.000000      3.000000      3.000000      1.000000   \n",
       "\n",
       "               alco        active        cardio  \n",
       "count  70000.000000  70000.000000  70000.000000  \n",
       "mean       0.053771      0.803729      0.499700  \n",
       "std        0.225568      0.397179      0.500003  \n",
       "min        0.000000      0.000000      0.000000  \n",
       "25%        0.000000      1.000000      0.000000  \n",
       "50%        0.000000      1.000000      0.000000  \n",
       "75%        0.000000      1.000000      1.000000  \n",
       "max        1.000000      1.000000      1.000000  "
      ]
     },
     "execution_count": 5,
     "metadata": {},
     "output_type": "execute_result"
    }
   ],
   "source": [
    "dataset.describe()"
   ]
  },
  {
   "cell_type": "code",
   "execution_count": 6,
   "metadata": {},
   "outputs": [
    {
     "name": "stdout",
     "output_type": "stream",
     "text": [
      "<class 'pandas.core.frame.DataFrame'>\n",
      "RangeIndex: 70000 entries, 0 to 69999\n",
      "Data columns (total 13 columns):\n",
      " #   Column       Non-Null Count  Dtype  \n",
      "---  ------       --------------  -----  \n",
      " 0   id           70000 non-null  int64  \n",
      " 1   age          70000 non-null  int64  \n",
      " 2   gender       70000 non-null  int64  \n",
      " 3   height       70000 non-null  int64  \n",
      " 4   weight       70000 non-null  float64\n",
      " 5   ap_hi        70000 non-null  int64  \n",
      " 6   ap_lo        70000 non-null  int64  \n",
      " 7   cholesterol  70000 non-null  int64  \n",
      " 8   gluc         70000 non-null  int64  \n",
      " 9   smoke        70000 non-null  int64  \n",
      " 10  alco         70000 non-null  int64  \n",
      " 11  active       70000 non-null  int64  \n",
      " 12  cardio       70000 non-null  int64  \n",
      "dtypes: float64(1), int64(12)\n",
      "memory usage: 6.9 MB\n"
     ]
    }
   ],
   "source": [
    "dataset.info()"
   ]
  },
  {
   "cell_type": "code",
   "execution_count": 7,
   "metadata": {},
   "outputs": [
    {
     "data": {
      "text/plain": [
       "id             0\n",
       "age            0\n",
       "gender         0\n",
       "height         0\n",
       "weight         0\n",
       "ap_hi          0\n",
       "ap_lo          0\n",
       "cholesterol    0\n",
       "gluc           0\n",
       "smoke          0\n",
       "alco           0\n",
       "active         0\n",
       "cardio         0\n",
       "dtype: int64"
      ]
     },
     "execution_count": 7,
     "metadata": {},
     "output_type": "execute_result"
    }
   ],
   "source": [
    "#Veri seti içerisinde boş değerler var mı?\n",
    "dataset.isnull().sum()"
   ]
  },
  {
   "cell_type": "markdown",
   "metadata": {},
   "source": [
    "# Makine Öğrenmesi Başlangıç"
   ]
  },
  {
   "cell_type": "markdown",
   "metadata": {},
   "source": [
    "## Veri Setinde Problemi Temsil Etmeyen 'id' Kolonunun Kaldırılması"
   ]
  },
  {
   "cell_type": "code",
   "execution_count": 8,
   "metadata": {},
   "outputs": [
    {
     "data": {
      "text/html": [
       "<div>\n",
       "<style scoped>\n",
       "    .dataframe tbody tr th:only-of-type {\n",
       "        vertical-align: middle;\n",
       "    }\n",
       "\n",
       "    .dataframe tbody tr th {\n",
       "        vertical-align: top;\n",
       "    }\n",
       "\n",
       "    .dataframe thead th {\n",
       "        text-align: right;\n",
       "    }\n",
       "</style>\n",
       "<table border=\"1\" class=\"dataframe\">\n",
       "  <thead>\n",
       "    <tr style=\"text-align: right;\">\n",
       "      <th></th>\n",
       "      <th>age</th>\n",
       "      <th>gender</th>\n",
       "      <th>height</th>\n",
       "      <th>weight</th>\n",
       "      <th>ap_hi</th>\n",
       "      <th>ap_lo</th>\n",
       "      <th>cholesterol</th>\n",
       "      <th>gluc</th>\n",
       "      <th>smoke</th>\n",
       "      <th>alco</th>\n",
       "      <th>active</th>\n",
       "      <th>cardio</th>\n",
       "    </tr>\n",
       "  </thead>\n",
       "  <tbody>\n",
       "    <tr>\n",
       "      <th>0</th>\n",
       "      <td>18393</td>\n",
       "      <td>2</td>\n",
       "      <td>168</td>\n",
       "      <td>62.0</td>\n",
       "      <td>110</td>\n",
       "      <td>80</td>\n",
       "      <td>1</td>\n",
       "      <td>1</td>\n",
       "      <td>0</td>\n",
       "      <td>0</td>\n",
       "      <td>1</td>\n",
       "      <td>0</td>\n",
       "    </tr>\n",
       "    <tr>\n",
       "      <th>1</th>\n",
       "      <td>20228</td>\n",
       "      <td>1</td>\n",
       "      <td>156</td>\n",
       "      <td>85.0</td>\n",
       "      <td>140</td>\n",
       "      <td>90</td>\n",
       "      <td>3</td>\n",
       "      <td>1</td>\n",
       "      <td>0</td>\n",
       "      <td>0</td>\n",
       "      <td>1</td>\n",
       "      <td>1</td>\n",
       "    </tr>\n",
       "    <tr>\n",
       "      <th>2</th>\n",
       "      <td>18857</td>\n",
       "      <td>1</td>\n",
       "      <td>165</td>\n",
       "      <td>64.0</td>\n",
       "      <td>130</td>\n",
       "      <td>70</td>\n",
       "      <td>3</td>\n",
       "      <td>1</td>\n",
       "      <td>0</td>\n",
       "      <td>0</td>\n",
       "      <td>0</td>\n",
       "      <td>1</td>\n",
       "    </tr>\n",
       "    <tr>\n",
       "      <th>3</th>\n",
       "      <td>17623</td>\n",
       "      <td>2</td>\n",
       "      <td>169</td>\n",
       "      <td>82.0</td>\n",
       "      <td>150</td>\n",
       "      <td>100</td>\n",
       "      <td>1</td>\n",
       "      <td>1</td>\n",
       "      <td>0</td>\n",
       "      <td>0</td>\n",
       "      <td>1</td>\n",
       "      <td>1</td>\n",
       "    </tr>\n",
       "    <tr>\n",
       "      <th>4</th>\n",
       "      <td>17474</td>\n",
       "      <td>1</td>\n",
       "      <td>156</td>\n",
       "      <td>56.0</td>\n",
       "      <td>100</td>\n",
       "      <td>60</td>\n",
       "      <td>1</td>\n",
       "      <td>1</td>\n",
       "      <td>0</td>\n",
       "      <td>0</td>\n",
       "      <td>0</td>\n",
       "      <td>0</td>\n",
       "    </tr>\n",
       "  </tbody>\n",
       "</table>\n",
       "</div>"
      ],
      "text/plain": [
       "     age  gender  height  weight  ap_hi  ap_lo  cholesterol  gluc  smoke  \\\n",
       "0  18393       2     168    62.0    110     80            1     1      0   \n",
       "1  20228       1     156    85.0    140     90            3     1      0   \n",
       "2  18857       1     165    64.0    130     70            3     1      0   \n",
       "3  17623       2     169    82.0    150    100            1     1      0   \n",
       "4  17474       1     156    56.0    100     60            1     1      0   \n",
       "\n",
       "   alco  active  cardio  \n",
       "0     0       1       0  \n",
       "1     0       1       1  \n",
       "2     0       0       1  \n",
       "3     0       1       1  \n",
       "4     0       0       0  "
      ]
     },
     "execution_count": 8,
     "metadata": {},
     "output_type": "execute_result"
    }
   ],
   "source": [
    "dataset = dataset.drop(['id'],axis=1)\n",
    "dataset.head()"
   ]
  },
  {
   "cell_type": "markdown",
   "metadata": {},
   "source": [
    "## Veri Setindeki 'age' Kolonuna Ait Değerlerin Yıla Dönüştürülmesi(yaşın gün cinsinden yıla çevrilmesi) "
   ]
  },
  {
   "cell_type": "code",
   "execution_count": 9,
   "metadata": {},
   "outputs": [],
   "source": [
    "age = []\n",
    "for i in dataset['age']:\n",
    "    new_age = int(i/365)\n",
    "    age.append(new_age)\n",
    "dataset['age'] = age"
   ]
  },
  {
   "cell_type": "markdown",
   "metadata": {},
   "source": [
    "## Veri Setindeki 'weight' Kolonundaki Ondalıklı Değerlerin Tam sayıya Çevrilmesi"
   ]
  },
  {
   "cell_type": "code",
   "execution_count": 10,
   "metadata": {},
   "outputs": [],
   "source": [
    "weight= []\n",
    "for i in dataset['weight']:\n",
    "    new_weight = int(i)\n",
    "    weight.append(new_weight)\n",
    "dataset['weight'] = weight"
   ]
  },
  {
   "cell_type": "code",
   "execution_count": 11,
   "metadata": {},
   "outputs": [
    {
     "data": {
      "text/html": [
       "<div>\n",
       "<style scoped>\n",
       "    .dataframe tbody tr th:only-of-type {\n",
       "        vertical-align: middle;\n",
       "    }\n",
       "\n",
       "    .dataframe tbody tr th {\n",
       "        vertical-align: top;\n",
       "    }\n",
       "\n",
       "    .dataframe thead th {\n",
       "        text-align: right;\n",
       "    }\n",
       "</style>\n",
       "<table border=\"1\" class=\"dataframe\">\n",
       "  <thead>\n",
       "    <tr style=\"text-align: right;\">\n",
       "      <th></th>\n",
       "      <th>age</th>\n",
       "      <th>gender</th>\n",
       "      <th>height</th>\n",
       "      <th>weight</th>\n",
       "      <th>ap_hi</th>\n",
       "      <th>ap_lo</th>\n",
       "      <th>cholesterol</th>\n",
       "      <th>gluc</th>\n",
       "      <th>smoke</th>\n",
       "      <th>alco</th>\n",
       "      <th>active</th>\n",
       "      <th>cardio</th>\n",
       "    </tr>\n",
       "  </thead>\n",
       "  <tbody>\n",
       "    <tr>\n",
       "      <th>69995</th>\n",
       "      <td>52</td>\n",
       "      <td>2</td>\n",
       "      <td>168</td>\n",
       "      <td>76</td>\n",
       "      <td>120</td>\n",
       "      <td>80</td>\n",
       "      <td>1</td>\n",
       "      <td>1</td>\n",
       "      <td>1</td>\n",
       "      <td>0</td>\n",
       "      <td>1</td>\n",
       "      <td>0</td>\n",
       "    </tr>\n",
       "    <tr>\n",
       "      <th>69996</th>\n",
       "      <td>61</td>\n",
       "      <td>1</td>\n",
       "      <td>158</td>\n",
       "      <td>126</td>\n",
       "      <td>140</td>\n",
       "      <td>90</td>\n",
       "      <td>2</td>\n",
       "      <td>2</td>\n",
       "      <td>0</td>\n",
       "      <td>0</td>\n",
       "      <td>1</td>\n",
       "      <td>1</td>\n",
       "    </tr>\n",
       "    <tr>\n",
       "      <th>69997</th>\n",
       "      <td>52</td>\n",
       "      <td>2</td>\n",
       "      <td>183</td>\n",
       "      <td>105</td>\n",
       "      <td>180</td>\n",
       "      <td>90</td>\n",
       "      <td>3</td>\n",
       "      <td>1</td>\n",
       "      <td>0</td>\n",
       "      <td>1</td>\n",
       "      <td>0</td>\n",
       "      <td>1</td>\n",
       "    </tr>\n",
       "    <tr>\n",
       "      <th>69998</th>\n",
       "      <td>61</td>\n",
       "      <td>1</td>\n",
       "      <td>163</td>\n",
       "      <td>72</td>\n",
       "      <td>135</td>\n",
       "      <td>80</td>\n",
       "      <td>1</td>\n",
       "      <td>2</td>\n",
       "      <td>0</td>\n",
       "      <td>0</td>\n",
       "      <td>0</td>\n",
       "      <td>1</td>\n",
       "    </tr>\n",
       "    <tr>\n",
       "      <th>69999</th>\n",
       "      <td>56</td>\n",
       "      <td>1</td>\n",
       "      <td>170</td>\n",
       "      <td>72</td>\n",
       "      <td>120</td>\n",
       "      <td>80</td>\n",
       "      <td>2</td>\n",
       "      <td>1</td>\n",
       "      <td>0</td>\n",
       "      <td>0</td>\n",
       "      <td>1</td>\n",
       "      <td>0</td>\n",
       "    </tr>\n",
       "  </tbody>\n",
       "</table>\n",
       "</div>"
      ],
      "text/plain": [
       "       age  gender  height  weight  ap_hi  ap_lo  cholesterol  gluc  smoke  \\\n",
       "69995   52       2     168      76    120     80            1     1      1   \n",
       "69996   61       1     158     126    140     90            2     2      0   \n",
       "69997   52       2     183     105    180     90            3     1      0   \n",
       "69998   61       1     163      72    135     80            1     2      0   \n",
       "69999   56       1     170      72    120     80            2     1      0   \n",
       "\n",
       "       alco  active  cardio  \n",
       "69995     0       1       0  \n",
       "69996     0       1       1  \n",
       "69997     1       0       1  \n",
       "69998     0       0       1  \n",
       "69999     0       1       0  "
      ]
     },
     "execution_count": 11,
     "metadata": {},
     "output_type": "execute_result"
    }
   ],
   "source": [
    "dataset.tail()"
   ]
  },
  {
   "cell_type": "markdown",
   "metadata": {},
   "source": [
    "## Düzenlenen Veri Setinin Kaydedilmesi"
   ]
  },
  {
   "cell_type": "code",
   "execution_count": 12,
   "metadata": {},
   "outputs": [],
   "source": [
    "dataset.to_csv(\"new_cardio_disease_dataset.csv\",index=False)"
   ]
  },
  {
   "cell_type": "markdown",
   "metadata": {},
   "source": [
    "# Verilerin Görselleştirilmesi"
   ]
  },
  {
   "cell_type": "code",
   "execution_count": 13,
   "metadata": {},
   "outputs": [
    {
     "data": {
      "text/plain": [
       "<AxesSubplot:xlabel='age', ylabel='Density'>"
      ]
     },
     "execution_count": 13,
     "metadata": {},
     "output_type": "execute_result"
    },
    {
     "data": {
      "image/png": "[encoded data removed]",
      "text/plain": [
       "<Figure size 432x288 with 1 Axes>"
      ]
     },
     "metadata": {
      "needs_background": "light"
     },
     "output_type": "display_data"
    }
   ],
   "source": [
    "#Yaş dağılımlarının çizdirilmesi\n",
    "sns.distplot(dataset['age'])"
   ]
  },
  {
   "cell_type": "code",
   "execution_count": 14,
   "metadata": {},
   "outputs": [
    {
     "data": {
      "text/plain": [
       "<AxesSubplot:xlabel='height', ylabel='Density'>"
      ]
     },
     "execution_count": 14,
     "metadata": {},
     "output_type": "execute_result"
    },
    {
     "data": {
      "image/png": "[encoded data removed]",
      "text/plain": [
       "<Figure size 432x288 with 1 Axes>"
      ]
     },
     "metadata": {
      "needs_background": "light"
     },
     "output_type": "display_data"
    }
   ],
   "source": [
    "#Boy dağılımlarının çizdirilmesi\n",
    "sns.distplot(dataset['height'])"
   ]
  },
  {
   "cell_type": "code",
   "execution_count": 15,
   "metadata": {},
   "outputs": [
    {
     "data": {
      "text/plain": [
       "<AxesSubplot:xlabel='weight', ylabel='Density'>"
      ]
     },
     "execution_count": 15,
     "metadata": {},
     "output_type": "execute_result"
    },
    {
     "data": {
      "image/png": "[encoded data removed]",
      "text/plain": [
       "<Figure size 432x288 with 1 Axes>"
      ]
     },
     "metadata": {
      "needs_background": "light"
     },
     "output_type": "display_data"
    }
   ],
   "source": [
    "#Kilo dağılımlarının çizdirilmesi\n",
    "sns.distplot(dataset['weight'])"
   ]
  },
  {
   "cell_type": "code",
   "execution_count": 16,
   "metadata": {},
   "outputs": [
    {
     "data": {
      "text/plain": [
       "<AxesSubplot:xlabel='cardio', ylabel='age'>"
      ]
     },
     "execution_count": 16,
     "metadata": {},
     "output_type": "execute_result"
    },
    {
     "data": {
      "image/png": "[encoded data removed]",
      "text/plain": [
       "<Figure size 432x288 with 1 Axes>"
      ]
     },
     "metadata": {
      "needs_background": "light"
     },
     "output_type": "display_data"
    }
   ],
   "source": [
    "#Hastalığın cinsiyet ve yaş üzerindeki dağılımı\n",
    "sns.violinplot(x='cardio',y='age',hue='gender',data=dataset)"
   ]
  },
  {
   "cell_type": "code",
   "execution_count": 17,
   "metadata": {},
   "outputs": [
    {
     "data": {
      "text/plain": [
       "<AxesSubplot:xlabel='cardio', ylabel='height'>"
      ]
     },
     "execution_count": 17,
     "metadata": {},
     "output_type": "execute_result"
    },
    {
     "data": {
      "image/png": "[encoded data removed]",
      "text/plain": [
       "<Figure size 432x288 with 1 Axes>"
      ]
     },
     "metadata": {
      "needs_background": "light"
     },
     "output_type": "display_data"
    }
   ],
   "source": [
    "#Hastalığın boy ve kolesterol üzerindeki dağılımı\n",
    "sns.violinplot(x='cardio',y='height',hue='cholesterol',data=dataset)"
   ]
  },
  {
   "cell_type": "code",
   "execution_count": 18,
   "metadata": {},
   "outputs": [
    {
     "data": {
      "text/plain": [
       "<AxesSubplot:xlabel='cardio', ylabel='weight'>"
      ]
     },
     "execution_count": 18,
     "metadata": {},
     "output_type": "execute_result"
    },
    {
     "data": {
      "image/png": "[encoded data removed]",
      "text/plain": [
       "<Figure size 432x288 with 1 Axes>"
      ]
     },
     "metadata": {
      "needs_background": "light"
     },
     "output_type": "display_data"
    }
   ],
   "source": [
    "#Hastalığın kilo ve kolesterol üzerindeki dağılımı\n",
    "sns.stripplot(x='cardio',y='weight',hue='cholesterol',data=dataset)"
   ]
  },
  {
   "cell_type": "code",
   "execution_count": 19,
   "metadata": {},
   "outputs": [
    {
     "data": {
      "text/plain": [
       "<AxesSubplot:xlabel='gender', ylabel='count'>"
      ]
     },
     "execution_count": 19,
     "metadata": {},
     "output_type": "execute_result"
    },
    {
     "data": {
      "image/png": "[encoded data removed]",
      "text/plain": [
       "<Figure size 432x288 with 1 Axes>"
      ]
     },
     "metadata": {
      "needs_background": "light"
     },
     "output_type": "display_data"
    }
   ],
   "source": [
    "#Cinsiyet dağılımı\n",
    "sns.countplot(x='gender',data=dataset,palette='Greens_d')"
   ]
  },
  {
   "cell_type": "code",
   "execution_count": 20,
   "metadata": {},
   "outputs": [
    {
     "data": {
      "text/plain": [
       "<seaborn.axisgrid.FacetGrid at 0x255bc395cd0>"
      ]
     },
     "execution_count": 20,
     "metadata": {},
     "output_type": "execute_result"
    },
    {
     "data": {
      "image/png": "[encoded data removed]",
      "text/plain": [
       "<Figure size 360x360 with 1 Axes>"
      ]
     },
     "metadata": {
      "needs_background": "light"
     },
     "output_type": "display_data"
    }
   ],
   "source": [
    "#Kilonun hastalık üzerindeki dağılımı\n",
    "sns.factorplot(x='cardio',y='weight',kind='bar',data=dataset,palette='magma')"
   ]
  },
  {
   "cell_type": "code",
   "execution_count": 21,
   "metadata": {},
   "outputs": [
    {
     "data": {
      "text/plain": [
       "<seaborn.axisgrid.FacetGrid at 0x255bce206d0>"
      ]
     },
     "execution_count": 21,
     "metadata": {},
     "output_type": "execute_result"
    },
    {
     "data": {
      "image/png": "[encoded data removed]",
      "text/plain": [
       "<Figure size 360x360 with 1 Axes>"
      ]
     },
     "metadata": {
      "needs_background": "light"
     },
     "output_type": "display_data"
    }
   ],
   "source": [
    "#Boyun hastalık üzerindeki dağılımı\n",
    "sns.factorplot(x='cardio',y='height',kind='bar',data=dataset,palette='tab10')"
   ]
  },
  {
   "cell_type": "code",
   "execution_count": 22,
   "metadata": {},
   "outputs": [
    {
     "data": {
      "text/plain": [
       "Text(0.5, 1.0, 'Hastalık Dağılımı')"
      ]
     },
     "execution_count": 22,
     "metadata": {},
     "output_type": "execute_result"
    },
    {
     "data": {
      "image/png": "[encoded data removed]",
      "text/plain": [
       "<Figure size 1440x1440 with 7 Axes>"
      ]
     },
     "metadata": {},
     "output_type": "display_data"
    }
   ],
   "source": [
    "#Kategorik Verilerin Pasta Grafiği Olarak Görselleştirilmesi\n",
    "plt.figure(figsize=(20,20))\n",
    "plt.subplot(4,4,1)\n",
    "dataset['gender'].value_counts().plot(kind = \"pie\",autopct = \"%.1f%%\")\n",
    "plt.title(\"Cinsiyet Dağılımı\")\n",
    "\n",
    "plt.subplot(4,4,2)\n",
    "dataset['cholesterol'].value_counts().plot(kind = \"pie\",autopct = \"%.1f%%\")\n",
    "plt.title(\"Kolesterol Dağılımı\")\n",
    "\n",
    "plt.subplot(4,4,3)\n",
    "dataset['gluc'].value_counts().plot(kind = \"pie\",autopct = \"%.1f%%\")\n",
    "plt.title(\"Glikoz Dağılımı\")\n",
    "\n",
    "plt.subplot(4,4,4)\n",
    "dataset['smoke'].value_counts().plot(kind = \"pie\",autopct = \"%.1f%%\")\n",
    "plt.title(\"Sigara Kullanım Dağılımı\")\n",
    "\n",
    "plt.subplot(4,4,5)\n",
    "dataset['alco'].value_counts().plot(kind = \"pie\",autopct = \"%.1f%%\")\n",
    "plt.title(\"Alkol Kullanım Dağılımı\")\n",
    "\n",
    "plt.subplot(4,4,6)\n",
    "dataset['active'].value_counts().plot(kind = \"pie\",autopct = \"%.1f%%\")\n",
    "plt.title(\"Fiziksel Aktivite Dağılımı\")\n",
    "\n",
    "plt.subplot(4,4,7)\n",
    "dataset['cardio'].value_counts().plot(kind = \"pie\",autopct = \"%.1f%%\")\n",
    "plt.title(\"Hastalık Dağılımı\")"
   ]
  },
  {
   "cell_type": "code",
   "execution_count": 23,
   "metadata": {
    "scrolled": true
   },
   "outputs": [
    {
     "data": {
      "image/png": "[encoded data removed]",
      "text/plain": [
       "<Figure size 1440x720 with 2 Axes>"
      ]
     },
     "metadata": {
      "needs_background": "light"
     },
     "output_type": "display_data"
    }
   ],
   "source": [
    "#Veri setinin kolerasyon grafiğinin çizdirilmesi\n",
    "plt.figure(figsize=(20,10))\n",
    "sns.heatmap(dataset.corr(),annot=True)\n",
    "plt.show()"
   ]
  },
  {
   "cell_type": "code",
   "execution_count": 24,
   "metadata": {},
   "outputs": [
    {
     "data": {
      "text/html": [
       "<div>\n",
       "<style scoped>\n",
       "    .dataframe tbody tr th:only-of-type {\n",
       "        vertical-align: middle;\n",
       "    }\n",
       "\n",
       "    .dataframe tbody tr th {\n",
       "        vertical-align: top;\n",
       "    }\n",
       "\n",
       "    .dataframe thead th {\n",
       "        text-align: right;\n",
       "    }\n",
       "</style>\n",
       "<table border=\"1\" class=\"dataframe\">\n",
       "  <thead>\n",
       "    <tr style=\"text-align: right;\">\n",
       "      <th></th>\n",
       "      <th>age</th>\n",
       "      <th>gender</th>\n",
       "      <th>height</th>\n",
       "      <th>weight</th>\n",
       "      <th>ap_hi</th>\n",
       "      <th>ap_lo</th>\n",
       "      <th>cholesterol</th>\n",
       "      <th>gluc</th>\n",
       "      <th>smoke</th>\n",
       "      <th>alco</th>\n",
       "      <th>active</th>\n",
       "      <th>cardio</th>\n",
       "    </tr>\n",
       "  </thead>\n",
       "  <tbody>\n",
       "    <tr>\n",
       "      <th>0</th>\n",
       "      <td>50</td>\n",
       "      <td>2</td>\n",
       "      <td>168</td>\n",
       "      <td>62</td>\n",
       "      <td>110</td>\n",
       "      <td>80</td>\n",
       "      <td>1</td>\n",
       "      <td>1</td>\n",
       "      <td>0</td>\n",
       "      <td>0</td>\n",
       "      <td>1</td>\n",
       "      <td>0</td>\n",
       "    </tr>\n",
       "    <tr>\n",
       "      <th>1</th>\n",
       "      <td>55</td>\n",
       "      <td>1</td>\n",
       "      <td>156</td>\n",
       "      <td>85</td>\n",
       "      <td>140</td>\n",
       "      <td>90</td>\n",
       "      <td>3</td>\n",
       "      <td>1</td>\n",
       "      <td>0</td>\n",
       "      <td>0</td>\n",
       "      <td>1</td>\n",
       "      <td>1</td>\n",
       "    </tr>\n",
       "    <tr>\n",
       "      <th>2</th>\n",
       "      <td>51</td>\n",
       "      <td>1</td>\n",
       "      <td>165</td>\n",
       "      <td>64</td>\n",
       "      <td>130</td>\n",
       "      <td>70</td>\n",
       "      <td>3</td>\n",
       "      <td>1</td>\n",
       "      <td>0</td>\n",
       "      <td>0</td>\n",
       "      <td>0</td>\n",
       "      <td>1</td>\n",
       "    </tr>\n",
       "    <tr>\n",
       "      <th>3</th>\n",
       "      <td>48</td>\n",
       "      <td>2</td>\n",
       "      <td>169</td>\n",
       "      <td>82</td>\n",
       "      <td>150</td>\n",
       "      <td>100</td>\n",
       "      <td>1</td>\n",
       "      <td>1</td>\n",
       "      <td>0</td>\n",
       "      <td>0</td>\n",
       "      <td>1</td>\n",
       "      <td>1</td>\n",
       "    </tr>\n",
       "    <tr>\n",
       "      <th>4</th>\n",
       "      <td>47</td>\n",
       "      <td>1</td>\n",
       "      <td>156</td>\n",
       "      <td>56</td>\n",
       "      <td>100</td>\n",
       "      <td>60</td>\n",
       "      <td>1</td>\n",
       "      <td>1</td>\n",
       "      <td>0</td>\n",
       "      <td>0</td>\n",
       "      <td>0</td>\n",
       "      <td>0</td>\n",
       "    </tr>\n",
       "  </tbody>\n",
       "</table>\n",
       "</div>"
      ],
      "text/plain": [
       "   age  gender  height  weight  ap_hi  ap_lo  cholesterol  gluc  smoke  alco  \\\n",
       "0   50       2     168      62    110     80            1     1      0     0   \n",
       "1   55       1     156      85    140     90            3     1      0     0   \n",
       "2   51       1     165      64    130     70            3     1      0     0   \n",
       "3   48       2     169      82    150    100            1     1      0     0   \n",
       "4   47       1     156      56    100     60            1     1      0     0   \n",
       "\n",
       "   active  cardio  \n",
       "0       1       0  \n",
       "1       1       1  \n",
       "2       0       1  \n",
       "3       1       1  \n",
       "4       0       0  "
      ]
     },
     "execution_count": 24,
     "metadata": {},
     "output_type": "execute_result"
    }
   ],
   "source": [
    "dataset.head()"
   ]
  },
  {
   "cell_type": "markdown",
   "metadata": {},
   "source": [
    "## Sayısal verilerin Normalleştirlmesi(MinMaxScaler)"
   ]
  },
  {
   "cell_type": "code",
   "execution_count": 25,
   "metadata": {},
   "outputs": [
    {
     "data": {
      "text/html": [
       "<div>\n",
       "<style scoped>\n",
       "    .dataframe tbody tr th:only-of-type {\n",
       "        vertical-align: middle;\n",
       "    }\n",
       "\n",
       "    .dataframe tbody tr th {\n",
       "        vertical-align: top;\n",
       "    }\n",
       "\n",
       "    .dataframe thead th {\n",
       "        text-align: right;\n",
       "    }\n",
       "</style>\n",
       "<table border=\"1\" class=\"dataframe\">\n",
       "  <thead>\n",
       "    <tr style=\"text-align: right;\">\n",
       "      <th></th>\n",
       "      <th>age</th>\n",
       "      <th>gender</th>\n",
       "      <th>height</th>\n",
       "      <th>weight</th>\n",
       "      <th>ap_hi</th>\n",
       "      <th>ap_lo</th>\n",
       "      <th>cholesterol</th>\n",
       "      <th>gluc</th>\n",
       "      <th>smoke</th>\n",
       "      <th>alco</th>\n",
       "      <th>active</th>\n",
       "      <th>cardio</th>\n",
       "    </tr>\n",
       "  </thead>\n",
       "  <tbody>\n",
       "    <tr>\n",
       "      <th>69995</th>\n",
       "      <td>0.657143</td>\n",
       "      <td>2</td>\n",
       "      <td>0.579487</td>\n",
       "      <td>0.347368</td>\n",
       "      <td>0.016698</td>\n",
       "      <td>0.013550</td>\n",
       "      <td>1</td>\n",
       "      <td>1</td>\n",
       "      <td>1</td>\n",
       "      <td>0</td>\n",
       "      <td>1</td>\n",
       "      <td>0</td>\n",
       "    </tr>\n",
       "    <tr>\n",
       "      <th>69996</th>\n",
       "      <td>0.914286</td>\n",
       "      <td>1</td>\n",
       "      <td>0.528205</td>\n",
       "      <td>0.610526</td>\n",
       "      <td>0.017934</td>\n",
       "      <td>0.014453</td>\n",
       "      <td>2</td>\n",
       "      <td>2</td>\n",
       "      <td>0</td>\n",
       "      <td>0</td>\n",
       "      <td>1</td>\n",
       "      <td>1</td>\n",
       "    </tr>\n",
       "    <tr>\n",
       "      <th>69997</th>\n",
       "      <td>0.657143</td>\n",
       "      <td>2</td>\n",
       "      <td>0.656410</td>\n",
       "      <td>0.500000</td>\n",
       "      <td>0.020408</td>\n",
       "      <td>0.014453</td>\n",
       "      <td>3</td>\n",
       "      <td>1</td>\n",
       "      <td>0</td>\n",
       "      <td>1</td>\n",
       "      <td>0</td>\n",
       "      <td>1</td>\n",
       "    </tr>\n",
       "    <tr>\n",
       "      <th>69998</th>\n",
       "      <td>0.914286</td>\n",
       "      <td>1</td>\n",
       "      <td>0.553846</td>\n",
       "      <td>0.326316</td>\n",
       "      <td>0.017625</td>\n",
       "      <td>0.013550</td>\n",
       "      <td>1</td>\n",
       "      <td>2</td>\n",
       "      <td>0</td>\n",
       "      <td>0</td>\n",
       "      <td>0</td>\n",
       "      <td>1</td>\n",
       "    </tr>\n",
       "    <tr>\n",
       "      <th>69999</th>\n",
       "      <td>0.771429</td>\n",
       "      <td>1</td>\n",
       "      <td>0.589744</td>\n",
       "      <td>0.326316</td>\n",
       "      <td>0.016698</td>\n",
       "      <td>0.013550</td>\n",
       "      <td>2</td>\n",
       "      <td>1</td>\n",
       "      <td>0</td>\n",
       "      <td>0</td>\n",
       "      <td>1</td>\n",
       "      <td>0</td>\n",
       "    </tr>\n",
       "  </tbody>\n",
       "</table>\n",
       "</div>"
      ],
      "text/plain": [
       "            age  gender    height    weight     ap_hi     ap_lo  cholesterol  \\\n",
       "69995  0.657143       2  0.579487  0.347368  0.016698  0.013550            1   \n",
       "69996  0.914286       1  0.528205  0.610526  0.017934  0.014453            2   \n",
       "69997  0.657143       2  0.656410  0.500000  0.020408  0.014453            3   \n",
       "69998  0.914286       1  0.553846  0.326316  0.017625  0.013550            1   \n",
       "69999  0.771429       1  0.589744  0.326316  0.016698  0.013550            2   \n",
       "\n",
       "       gluc  smoke  alco  active  cardio  \n",
       "69995     1      1     0       1       0  \n",
       "69996     2      0     0       1       1  \n",
       "69997     1      0     1       0       1  \n",
       "69998     2      0     0       0       1  \n",
       "69999     1      0     0       1       0  "
      ]
     },
     "execution_count": 25,
     "metadata": {},
     "output_type": "execute_result"
    }
   ],
   "source": [
    "sc =  MinMaxScaler()\n",
    "labels_sc = ['age','height','weight','ap_hi','ap_lo']\n",
    "for i in labels_sc:\n",
    "    dataset[labels_sc] = sc.fit_transform(dataset[labels_sc])\n",
    "dataset.tail()"
   ]
  },
  {
   "cell_type": "markdown",
   "metadata": {},
   "source": [
    "## Bağımlı ve Bağımsız Değişkenlerin Ayrılması "
   ]
  },
  {
   "cell_type": "code",
   "execution_count": 26,
   "metadata": {},
   "outputs": [],
   "source": [
    "X = dataset.drop(['cardio'],axis=1)\n",
    "Y = dataset['cardio']"
   ]
  },
  {
   "cell_type": "code",
   "execution_count": 27,
   "metadata": {},
   "outputs": [
    {
     "data": {
      "text/plain": [
       "(70000, 11)"
      ]
     },
     "execution_count": 27,
     "metadata": {},
     "output_type": "execute_result"
    }
   ],
   "source": [
    "X.shape"
   ]
  },
  {
   "cell_type": "code",
   "execution_count": 28,
   "metadata": {},
   "outputs": [
    {
     "data": {
      "text/plain": [
       "(70000,)"
      ]
     },
     "execution_count": 28,
     "metadata": {},
     "output_type": "execute_result"
    }
   ],
   "source": [
    "Y.shape"
   ]
  },
  {
   "cell_type": "markdown",
   "metadata": {},
   "source": [
    "## Veri Setinin Eğitim ve Test Olarak Ayrılması"
   ]
  },
  {
   "cell_type": "code",
   "execution_count": 29,
   "metadata": {},
   "outputs": [],
   "source": [
    "X_train,X_test,Y_train,Y_test = train_test_split(X,Y,test_size=.3,random_state=42)"
   ]
  },
  {
   "cell_type": "code",
   "execution_count": 30,
   "metadata": {},
   "outputs": [
    {
     "data": {
      "text/plain": [
       "(49000, 11)"
      ]
     },
     "execution_count": 30,
     "metadata": {},
     "output_type": "execute_result"
    }
   ],
   "source": [
    "X_train.shape"
   ]
  },
  {
   "cell_type": "code",
   "execution_count": 31,
   "metadata": {},
   "outputs": [
    {
     "data": {
      "text/plain": [
       "(21000, 11)"
      ]
     },
     "execution_count": 31,
     "metadata": {},
     "output_type": "execute_result"
    }
   ],
   "source": [
    "X_test.shape"
   ]
  },
  {
   "cell_type": "markdown",
   "metadata": {},
   "source": [
    "## Makine Öğrenmesi Algoritmaların Seçilip Cross-Validation(Çapraz Doğrulama) Yöntemi Kullanılarak En Yüksek Başarımı Veren Algoritmanın Belirlenmesi"
   ]
  },
  {
   "cell_type": "code",
   "execution_count": 32,
   "metadata": {},
   "outputs": [
    {
     "name": "stdout",
     "output_type": "stream",
     "text": [
      "Algoritma: LR / Başarım: 0.645184 / Std: 0.006453\n",
      "Algoritma: NB / Başarım: 0.598837 / Std: 0.010341\n",
      "Algoritma: KNN / Başarım: 0.595918 / Std: 0.007500\n",
      "Algoritma: ABC / Başarım: 0.729122 / Std: 0.005204\n",
      "Algoritma: BC / Başarım: 0.683429 / Std: 0.005143\n",
      "Algoritma: ETC / Başarım: 0.693653 / Std: 0.004162\n",
      "Algoritma: GBC / Başarım: 0.733592 / Std: 0.004217\n",
      "Algoritma: RFC / Başarım: 0.707959 / Std: 0.006414\n",
      "Algoritma: DTC / Başarım: 0.633122 / Std: 0.005645\n",
      "Algoritma: SVM / Başarım: 0.639796 / Std: 0.006937\n",
      "Algoritma: MLP / Başarım: 0.718408 / Std: 0.006057\n",
      "Algoritma: XGBoost / Başarım: 0.732388 / Std: 0.004374\n",
      "Learning rate set to 0.5\n",
      "0:\tlearn: 0.5985173\ttotal: 149ms\tremaining: 1.34s\n",
      "1:\tlearn: 0.5667518\ttotal: 153ms\tremaining: 612ms\n",
      "2:\tlearn: 0.5544625\ttotal: 157ms\tremaining: 366ms\n",
      "3:\tlearn: 0.5490274\ttotal: 160ms\tremaining: 240ms\n",
      "4:\tlearn: 0.5451623\ttotal: 164ms\tremaining: 164ms\n",
      "5:\tlearn: 0.5433587\ttotal: 168ms\tremaining: 112ms\n",
      "6:\tlearn: 0.5423105\ttotal: 172ms\tremaining: 73.6ms\n",
      "7:\tlearn: 0.5415852\ttotal: 175ms\tremaining: 43.8ms\n",
      "8:\tlearn: 0.5408601\ttotal: 179ms\tremaining: 19.9ms\n",
      "9:\tlearn: 0.5397606\ttotal: 183ms\tremaining: 0us\n",
      "Learning rate set to 0.5\n",
      "0:\tlearn: 0.5974733\ttotal: 18.7ms\tremaining: 169ms\n",
      "1:\tlearn: 0.5653044\ttotal: 22.4ms\tremaining: 89.8ms\n",
      "2:\tlearn: 0.5537068\ttotal: 25.9ms\tremaining: 60.4ms\n",
      "3:\tlearn: 0.5482215\ttotal: 29.6ms\tremaining: 44.4ms\n",
      "4:\tlearn: 0.5446543\ttotal: 33.2ms\tremaining: 33.2ms\n",
      "5:\tlearn: 0.5420469\ttotal: 36.9ms\tremaining: 24.6ms\n",
      "6:\tlearn: 0.5407588\ttotal: 40.6ms\tremaining: 17.4ms\n",
      "7:\tlearn: 0.5397855\ttotal: 44.3ms\tremaining: 11.1ms\n",
      "8:\tlearn: 0.5392831\ttotal: 48.1ms\tremaining: 5.34ms\n",
      "9:\tlearn: 0.5385657\ttotal: 51.8ms\tremaining: 0us\n",
      "Learning rate set to 0.5\n",
      "0:\tlearn: 0.5982078\ttotal: 3.99ms\tremaining: 35.9ms\n",
      "1:\tlearn: 0.5662031\ttotal: 8.02ms\tremaining: 32.1ms\n",
      "2:\tlearn: 0.5537835\ttotal: 11.8ms\tremaining: 27.6ms\n",
      "3:\tlearn: 0.5477991\ttotal: 15.5ms\tremaining: 23.3ms\n",
      "4:\tlearn: 0.5442258\ttotal: 19.1ms\tremaining: 19.1ms\n",
      "5:\tlearn: 0.5419963\ttotal: 22.7ms\tremaining: 15.2ms\n",
      "6:\tlearn: 0.5408658\ttotal: 26.4ms\tremaining: 11.3ms\n",
      "7:\tlearn: 0.5396855\ttotal: 30.1ms\tremaining: 7.52ms\n",
      "8:\tlearn: 0.5391607\ttotal: 33.7ms\tremaining: 3.74ms\n",
      "9:\tlearn: 0.5382060\ttotal: 37.8ms\tremaining: 0us\n",
      "Learning rate set to 0.5\n",
      "0:\tlearn: 0.5980157\ttotal: 4.23ms\tremaining: 38ms\n",
      "1:\tlearn: 0.5661212\ttotal: 8.31ms\tremaining: 33.2ms\n",
      "2:\tlearn: 0.5530360\ttotal: 12.3ms\tremaining: 28.7ms\n",
      "3:\tlearn: 0.5473531\ttotal: 16.1ms\tremaining: 24.2ms\n",
      "4:\tlearn: 0.5436815\ttotal: 19.9ms\tremaining: 19.9ms\n",
      "5:\tlearn: 0.5423508\ttotal: 23.5ms\tremaining: 15.7ms\n",
      "6:\tlearn: 0.5410415\ttotal: 27.4ms\tremaining: 11.7ms\n",
      "7:\tlearn: 0.5402160\ttotal: 31.1ms\tremaining: 7.78ms\n",
      "8:\tlearn: 0.5394041\ttotal: 34.7ms\tremaining: 3.86ms\n",
      "9:\tlearn: 0.5384154\ttotal: 38.6ms\tremaining: 0us\n",
      "Learning rate set to 0.5\n",
      "0:\tlearn: 0.5987837\ttotal: 4.42ms\tremaining: 39.8ms\n",
      "1:\tlearn: 0.5673565\ttotal: 8.54ms\tremaining: 34.2ms\n",
      "2:\tlearn: 0.5543401\ttotal: 12.5ms\tremaining: 29.2ms\n",
      "3:\tlearn: 0.5487470\ttotal: 16.5ms\tremaining: 24.7ms\n",
      "4:\tlearn: 0.5450856\ttotal: 20.1ms\tremaining: 20.1ms\n",
      "5:\tlearn: 0.5437678\ttotal: 23.8ms\tremaining: 15.9ms\n",
      "6:\tlearn: 0.5423518\ttotal: 27.7ms\tremaining: 11.9ms\n",
      "7:\tlearn: 0.5412206\ttotal: 31.5ms\tremaining: 7.87ms\n",
      "8:\tlearn: 0.5404885\ttotal: 35.1ms\tremaining: 3.9ms\n",
      "9:\tlearn: 0.5396770\ttotal: 38.9ms\tremaining: 0us\n",
      "Learning rate set to 0.5\n",
      "0:\tlearn: 0.5979047\ttotal: 3.76ms\tremaining: 33.8ms\n",
      "1:\tlearn: 0.5664834\ttotal: 7.93ms\tremaining: 31.7ms\n",
      "2:\tlearn: 0.5538155\ttotal: 11.9ms\tremaining: 27.8ms\n",
      "3:\tlearn: 0.5474465\ttotal: 15.6ms\tremaining: 23.4ms\n",
      "4:\tlearn: 0.5439244\ttotal: 19.4ms\tremaining: 19.4ms\n",
      "5:\tlearn: 0.5422613\ttotal: 23.2ms\tremaining: 15.5ms\n",
      "6:\tlearn: 0.5405822\ttotal: 27.2ms\tremaining: 11.7ms\n",
      "7:\tlearn: 0.5397674\ttotal: 30.9ms\tremaining: 7.72ms\n",
      "8:\tlearn: 0.5390679\ttotal: 34.5ms\tremaining: 3.83ms\n",
      "9:\tlearn: 0.5377945\ttotal: 38.2ms\tremaining: 0us\n",
      "Learning rate set to 0.5\n",
      "0:\tlearn: 0.5983910\ttotal: 4.34ms\tremaining: 39.1ms\n",
      "1:\tlearn: 0.5657749\ttotal: 8.31ms\tremaining: 33.2ms\n",
      "2:\tlearn: 0.5530100\ttotal: 12.3ms\tremaining: 28.8ms\n",
      "3:\tlearn: 0.5472349\ttotal: 16ms\tremaining: 24ms\n",
      "4:\tlearn: 0.5436212\ttotal: 20ms\tremaining: 20ms\n",
      "5:\tlearn: 0.5414516\ttotal: 23.8ms\tremaining: 15.9ms\n",
      "6:\tlearn: 0.5400761\ttotal: 28ms\tremaining: 12ms\n",
      "7:\tlearn: 0.5390613\ttotal: 32.1ms\tremaining: 8.02ms\n",
      "8:\tlearn: 0.5386868\ttotal: 35.9ms\tremaining: 3.98ms\n",
      "9:\tlearn: 0.5380268\ttotal: 39.7ms\tremaining: 0us\n",
      "Learning rate set to 0.5\n",
      "0:\tlearn: 0.5974549\ttotal: 3.79ms\tremaining: 34.1ms\n",
      "1:\tlearn: 0.5647158\ttotal: 7.95ms\tremaining: 31.8ms\n",
      "2:\tlearn: 0.5513878\ttotal: 11.7ms\tremaining: 27.3ms\n",
      "3:\tlearn: 0.5462275\ttotal: 15.8ms\tremaining: 23.7ms\n",
      "4:\tlearn: 0.5427401\ttotal: 19.7ms\tremaining: 19.7ms\n",
      "5:\tlearn: 0.5409204\ttotal: 23.6ms\tremaining: 15.7ms\n",
      "6:\tlearn: 0.5395695\ttotal: 27.7ms\tremaining: 11.9ms\n",
      "7:\tlearn: 0.5381656\ttotal: 31.8ms\tremaining: 7.94ms\n",
      "8:\tlearn: 0.5374935\ttotal: 35.8ms\tremaining: 3.98ms\n",
      "9:\tlearn: 0.5368400\ttotal: 39.7ms\tremaining: 0us\n",
      "Learning rate set to 0.5\n",
      "0:\tlearn: 0.5983408\ttotal: 4.56ms\tremaining: 41ms\n",
      "1:\tlearn: 0.5670691\ttotal: 8.8ms\tremaining: 35.2ms\n",
      "2:\tlearn: 0.5535661\ttotal: 12.7ms\tremaining: 29.7ms\n",
      "3:\tlearn: 0.5473046\ttotal: 16.6ms\tremaining: 24.9ms\n",
      "4:\tlearn: 0.5434150\ttotal: 20.5ms\tremaining: 20.5ms\n",
      "5:\tlearn: 0.5414594\ttotal: 24.3ms\tremaining: 16.2ms\n",
      "6:\tlearn: 0.5402013\ttotal: 28.1ms\tremaining: 12ms\n",
      "7:\tlearn: 0.5392243\ttotal: 32.1ms\tremaining: 8.02ms\n",
      "8:\tlearn: 0.5387296\ttotal: 35.9ms\tremaining: 3.99ms\n",
      "9:\tlearn: 0.5375532\ttotal: 39.9ms\tremaining: 0us\n",
      "Learning rate set to 0.5\n",
      "0:\tlearn: 0.5982194\ttotal: 4.52ms\tremaining: 40.7ms\n",
      "1:\tlearn: 0.5668466\ttotal: 8.86ms\tremaining: 35.5ms\n",
      "2:\tlearn: 0.5544569\ttotal: 13.7ms\tremaining: 32.1ms\n",
      "3:\tlearn: 0.5478268\ttotal: 18.1ms\tremaining: 27.2ms\n",
      "4:\tlearn: 0.5449966\ttotal: 22.4ms\tremaining: 22.4ms\n",
      "5:\tlearn: 0.5430285\ttotal: 27ms\tremaining: 18ms\n",
      "6:\tlearn: 0.5417037\ttotal: 31.4ms\tremaining: 13.5ms\n",
      "7:\tlearn: 0.5400349\ttotal: 36ms\tremaining: 8.99ms\n",
      "8:\tlearn: 0.5394740\ttotal: 40.2ms\tremaining: 4.47ms\n",
      "9:\tlearn: 0.5390227\ttotal: 44.5ms\tremaining: 0us\n",
      "Algoritma: CatBoost / Başarım: 0.731694 / Std: 0.005521\n"
     ]
    }
   ],
   "source": [
    "models = [\n",
    "    ('LR',LogisticRegression()),\n",
    "    ('NB',GaussianNB()),\n",
    "    ('KNN',KNeighborsClassifier(n_neighbors=3)),\n",
    "    ('ABC',AdaBoostClassifier()),\n",
    "    ('BC',BaggingClassifier()),\n",
    "    ('ETC',ExtraTreesClassifier()),\n",
    "    ('GBC',GradientBoostingClassifier()),\n",
    "    ('RFC',RandomForestClassifier()),\n",
    "    ('DTC',DecisionTreeClassifier()),\n",
    "    ('SVM',SVC()),\n",
    "    ('MLP',MLPClassifier(activation='relu',max_iter=200,shuffle=True,random_state=42)),\n",
    "    ('XGBoost',XGBClassifier(eval_metric='mlogloss',use_label_encoder =False)),\n",
    "    ('CatBoost',CatBoostClassifier(iterations=10,))\n",
    "]\n",
    "names = []\n",
    "results = []\n",
    "for name,model in models:\n",
    "    kfold = KFold(n_splits=10,random_state=42)\n",
    "    cv_results = cross_val_score(model,X_train,Y_train,cv=kfold,scoring='accuracy')\n",
    "    names.append(name)\n",
    "    results.append(cv_results)\n",
    "    print(\"Algoritma: %s / Başarım: %f / Std: %f\" % (name,cv_results.mean(),cv_results.std()))"
   ]
  },
  {
   "cell_type": "markdown",
   "metadata": {},
   "source": [
    "## En Yüksek Başarımı Veren Algoritmanın Eğitilip Test Edilmesi"
   ]
  },
  {
   "cell_type": "code",
   "execution_count": 33,
   "metadata": {},
   "outputs": [
    {
     "name": "stdout",
     "output_type": "stream",
     "text": [
      "Başarım Değeri(Accuracy Score):  0.7389523809523809\n",
      "Confusion Matrix:\n",
      " [[8010 2451]\n",
      " [3031 7508]]\n",
      "Classification Report:\n",
      "                precision    recall  f1-score   support\n",
      "\n",
      "           0       0.73      0.77      0.75     10461\n",
      "           1       0.75      0.71      0.73     10539\n",
      "\n",
      "    accuracy                           0.74     21000\n",
      "   macro avg       0.74      0.74      0.74     21000\n",
      "weighted avg       0.74      0.74      0.74     21000\n",
      "\n",
      "ROC-AUC Puanı:  0.7390513659603413\n"
     ]
    }
   ],
   "source": [
    "gbc = GradientBoostingClassifier()\n",
    "gbc.fit(X_train,Y_train)\n",
    "y_pred = gbc.predict(X_test)\n",
    "\n",
    "print(\"Başarım Değeri(Accuracy Score): \",accuracy_score(Y_test,y_pred))\n",
    "print(\"Confusion Matrix:\\n\",confusion_matrix(Y_test,y_pred))\n",
    "print(\"Classification Report:\\n \",classification_report(Y_test,y_pred))\n",
    "print(\"ROC-AUC Puanı: \",roc_auc_score(Y_test, y_pred))"
   ]
  },
  {
   "cell_type": "code",
   "execution_count": 34,
   "metadata": {},
   "outputs": [
    {
     "data": {
      "text/plain": [
       "<sklearn.metrics._plot.roc_curve.RocCurveDisplay at 0x255bc7edb50>"
      ]
     },
     "execution_count": 34,
     "metadata": {},
     "output_type": "execute_result"
    },
    {
     "data": {
      "text/plain": [
       "<Figure size 720x720 with 0 Axes>"
      ]
     },
     "metadata": {},
     "output_type": "display_data"
    },
    {
     "data": {
      "image/png": "[encoded data removed]",
      "text/plain": [
       "<Figure size 432x288 with 1 Axes>"
      ]
     },
     "metadata": {
      "needs_background": "light"
     },
     "output_type": "display_data"
    }
   ],
   "source": [
    "#ROC Eğrisi\n",
    "plt.figure(figsize=(10,10))\n",
    "plot_roc_curve(gbc,X_test,Y_test)"
   ]
  },
  {
   "cell_type": "markdown",
   "metadata": {},
   "source": [
    "## Tahmin ve Gerçek Değerlerin Gösterilmesi "
   ]
  },
  {
   "cell_type": "code",
   "execution_count": 35,
   "metadata": {},
   "outputs": [
    {
     "data": {
      "text/html": [
       "<div>\n",
       "<style scoped>\n",
       "    .dataframe tbody tr th:only-of-type {\n",
       "        vertical-align: middle;\n",
       "    }\n",
       "\n",
       "    .dataframe tbody tr th {\n",
       "        vertical-align: top;\n",
       "    }\n",
       "\n",
       "    .dataframe thead th {\n",
       "        text-align: right;\n",
       "    }\n",
       "</style>\n",
       "<table border=\"1\" class=\"dataframe\">\n",
       "  <thead>\n",
       "    <tr style=\"text-align: right;\">\n",
       "      <th></th>\n",
       "      <th>Tahminler</th>\n",
       "      <th>Gerçek Değerler</th>\n",
       "    </tr>\n",
       "  </thead>\n",
       "  <tbody>\n",
       "    <tr>\n",
       "      <th>46730</th>\n",
       "      <td>1</td>\n",
       "      <td>1</td>\n",
       "    </tr>\n",
       "    <tr>\n",
       "      <th>48393</th>\n",
       "      <td>1</td>\n",
       "      <td>1</td>\n",
       "    </tr>\n",
       "    <tr>\n",
       "      <th>41416</th>\n",
       "      <td>1</td>\n",
       "      <td>1</td>\n",
       "    </tr>\n",
       "    <tr>\n",
       "      <th>34506</th>\n",
       "      <td>0</td>\n",
       "      <td>1</td>\n",
       "    </tr>\n",
       "    <tr>\n",
       "      <th>43725</th>\n",
       "      <td>0</td>\n",
       "      <td>0</td>\n",
       "    </tr>\n",
       "    <tr>\n",
       "      <th>...</th>\n",
       "      <td>...</td>\n",
       "      <td>...</td>\n",
       "    </tr>\n",
       "    <tr>\n",
       "      <th>1216</th>\n",
       "      <td>1</td>\n",
       "      <td>1</td>\n",
       "    </tr>\n",
       "    <tr>\n",
       "      <th>19036</th>\n",
       "      <td>0</td>\n",
       "      <td>0</td>\n",
       "    </tr>\n",
       "    <tr>\n",
       "      <th>51256</th>\n",
       "      <td>1</td>\n",
       "      <td>0</td>\n",
       "    </tr>\n",
       "    <tr>\n",
       "      <th>48198</th>\n",
       "      <td>1</td>\n",
       "      <td>1</td>\n",
       "    </tr>\n",
       "    <tr>\n",
       "      <th>2571</th>\n",
       "      <td>1</td>\n",
       "      <td>1</td>\n",
       "    </tr>\n",
       "  </tbody>\n",
       "</table>\n",
       "<p>21000 rows × 2 columns</p>\n",
       "</div>"
      ],
      "text/plain": [
       "       Tahminler  Gerçek Değerler\n",
       "46730          1                1\n",
       "48393          1                1\n",
       "41416          1                1\n",
       "34506          0                1\n",
       "43725          0                0\n",
       "...          ...              ...\n",
       "1216           1                1\n",
       "19036          0                0\n",
       "51256          1                0\n",
       "48198          1                1\n",
       "2571           1                1\n",
       "\n",
       "[21000 rows x 2 columns]"
      ]
     },
     "execution_count": 35,
     "metadata": {},
     "output_type": "execute_result"
    }
   ],
   "source": [
    "d = {\"Tahminler\":y_pred,\"Gerçek Değerler\":Y_test}\n",
    "pd.DataFrame(data=d)"
   ]
  },
  {
   "cell_type": "markdown",
   "metadata": {},
   "source": [
    "## Modelin Kaydedilmesi"
   ]
  },
  {
   "cell_type": "code",
   "execution_count": 36,
   "metadata": {},
   "outputs": [
    {
     "data": {
      "text/plain": [
       "['model/gbc_model.pkl']"
      ]
     },
     "execution_count": 36,
     "metadata": {},
     "output_type": "execute_result"
    }
   ],
   "source": [
    "joblib.dump(gbc,'model/gbc_model.pkl')"
   ]
  },
  {
   "cell_type": "markdown",
   "metadata": {},
   "source": [
    "## Modelin Yüklenip Test Edilmesi"
   ]
  },
  {
   "cell_type": "code",
   "execution_count": 37,
   "metadata": {},
   "outputs": [
    {
     "name": "stdout",
     "output_type": "stream",
     "text": [
      "Kardiyovasküler Hastalık Sonucunuz:Hayır\n",
      "Kardiyovasküler Hastalık Sonucunuz:Evet\n"
     ]
    }
   ],
   "source": [
    "#Modelin Yüklenmesi(SVM)\n",
    "gbc_model = open(\"model/gbc_model.pkl\",\"rb\")\n",
    "model = joblib.load(gbc_model)\n",
    "\n",
    "#Modelin Test Edilmesi\n",
    "list = [52,2,167,66,158,66,2,1,1,1,0] \n",
    "if(model.predict([list]) == 1):\n",
    "  print(\"Kardiyovasküler Hastalık Sonucunuz:Evet\")\n",
    "else:\n",
    "  print(\"Kardiyovasküler Hastalık Sonucunuz:Hayır\")\n",
    "\n",
    "#Modelin Test Edilmesi 2\n",
    "list2 = [51,1,150,100,160,90,2,2,1,0,0] \n",
    "if(model.predict([list2]) == 1):\n",
    "  print(\"Kardiyovasküler Hastalık Sonucunuz:Evet\")\n",
    "else:\n",
    "  print(\"Kardiyovasküler Hastalık Sonucunuz:Hayır\")"
   ]
  },
  {
   "cell_type": "markdown",
   "metadata": {},
   "source": [
    "# Makine Öğrenmesi Sonu"
   ]
  },
  {
   "cell_type": "code",
   "execution_count": null,
   "metadata": {},
   "outputs": [],
   "source": []
  }
 ],
 "metadata": {
  "kernelspec": {
   "display_name": "Python 3",
   "language": "python",
   "name": "python3"
  },
  "language_info": {
   "codemirror_mode": {
    "name": "ipython",
    "version": 3
   },
   "file_extension": ".py",
   "mimetype": "text/x-python",
   "name": "python",
   "nbconvert_exporter": "python",
   "pygments_lexer": "ipython3",
   "version": "3.8.3"
  }
 },
 "nbformat": 4,
 "nbformat_minor": 4
}
